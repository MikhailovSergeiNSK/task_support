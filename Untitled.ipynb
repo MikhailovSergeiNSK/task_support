{
 "cells": [
  {
   "cell_type": "code",
   "execution_count": 1,
   "metadata": {},
   "outputs": [],
   "source": [
    "import pandas as pd\n",
    "from datetime import timedelta"
   ]
  },
  {
   "cell_type": "code",
   "execution_count": 2,
   "metadata": {},
   "outputs": [
    {
     "data": {
      "text/html": [
       "<div>\n",
       "<style scoped>\n",
       "    .dataframe tbody tr th:only-of-type {\n",
       "        vertical-align: middle;\n",
       "    }\n",
       "\n",
       "    .dataframe tbody tr th {\n",
       "        vertical-align: top;\n",
       "    }\n",
       "\n",
       "    .dataframe thead th {\n",
       "        text-align: right;\n",
       "    }\n",
       "</style>\n",
       "<table border=\"1\" class=\"dataframe\">\n",
       "  <thead>\n",
       "    <tr style=\"text-align: right;\">\n",
       "      <th></th>\n",
       "      <th>1</th>\n",
       "      <th>2</th>\n",
       "      <th>3</th>\n",
       "      <th>4</th>\n",
       "      <th>5</th>\n",
       "      <th>6</th>\n",
       "    </tr>\n",
       "    <tr>\n",
       "      <th>0</th>\n",
       "      <th></th>\n",
       "      <th></th>\n",
       "      <th></th>\n",
       "      <th></th>\n",
       "      <th></th>\n",
       "      <th></th>\n",
       "    </tr>\n",
       "  </thead>\n",
       "  <tbody>\n",
       "    <tr>\n",
       "      <th>1</th>\n",
       "      <td>14</td>\n",
       "      <td>54</td>\n",
       "      <td>0 ,481208997226 7124</td>\n",
       "      <td>Mon Aug  6 07:11:19 2018</td>\n",
       "      <td>2026-07-19 08:15:41.695463</td>\n",
       "      <td>2011-10-04</td>\n",
       "    </tr>\n",
       "    <tr>\n",
       "      <th>2</th>\n",
       "      <td>12</td>\n",
       "      <td>55</td>\n",
       "      <td>0 .9092218987487982</td>\n",
       "      <td>Thu Dec  1 01:32:03 2016</td>\n",
       "      <td>2006-08-06 16:18:39.172100</td>\n",
       "      <td>2006-08-28</td>\n",
       "    </tr>\n",
       "    <tr>\n",
       "      <th>3</th>\n",
       "      <td>25</td>\n",
       "      <td>2</td>\n",
       "      <td>0.  3268611158564687</td>\n",
       "      <td>Wed Aug  2 22:37:44 2028</td>\n",
       "      <td>2020-11-08 10:08:31.158667</td>\n",
       "      <td>2019-11-21</td>\n",
       "    </tr>\n",
       "    <tr>\n",
       "      <th>4</th>\n",
       "      <td>53</td>\n",
       "      <td>3</td>\n",
       "      <td>0. 38081302402434 647</td>\n",
       "      <td>Thu Feb 19 06:32:31 2009</td>\n",
       "      <td>2015-01-13 21:46:36.390139</td>\n",
       "      <td>2010-06-26</td>\n",
       "    </tr>\n",
       "    <tr>\n",
       "      <th>5</th>\n",
       "      <td>48</td>\n",
       "      <td>4</td>\n",
       "      <td>0  , 7685621545518444</td>\n",
       "      <td>Wed Nov 19 04:33:36 2025</td>\n",
       "      <td>2030-09-24 00:13:00.613749</td>\n",
       "      <td>2011-12-03</td>\n",
       "    </tr>\n",
       "    <tr>\n",
       "      <th>...</th>\n",
       "      <td>...</td>\n",
       "      <td>...</td>\n",
       "      <td>...</td>\n",
       "      <td>...</td>\n",
       "      <td>...</td>\n",
       "      <td>...</td>\n",
       "    </tr>\n",
       "    <tr>\n",
       "      <th>996</th>\n",
       "      <td>47</td>\n",
       "      <td>995</td>\n",
       "      <td>0 . 31648710908094746</td>\n",
       "      <td>Thu Jan  6 12:47:14 2022</td>\n",
       "      <td>2004-08-15 22:47:52.816219</td>\n",
       "      <td>2007-08-10</td>\n",
       "    </tr>\n",
       "    <tr>\n",
       "      <th>997</th>\n",
       "      <td>49</td>\n",
       "      <td>996</td>\n",
       "      <td>0 . 5254363291858615</td>\n",
       "      <td>Thu Oct 10 19:17:25 2013</td>\n",
       "      <td>2021-04-20 22:31:47.686148</td>\n",
       "      <td>2021-01-16</td>\n",
       "    </tr>\n",
       "    <tr>\n",
       "      <th>998</th>\n",
       "      <td>47</td>\n",
       "      <td>997</td>\n",
       "      <td>0 . 8274052871520312</td>\n",
       "      <td>Fri Mar 21 20:29:44 2008</td>\n",
       "      <td>2020-02-20 07:16:28.324597</td>\n",
       "      <td>2029-04-24</td>\n",
       "    </tr>\n",
       "    <tr>\n",
       "      <th>999</th>\n",
       "      <td>32</td>\n",
       "      <td>998</td>\n",
       "      <td>0 ,01 907367792932857</td>\n",
       "      <td>Sat Jan 31 19:35:29 2004</td>\n",
       "      <td>2017-11-19 04:27:59.413835</td>\n",
       "      <td>2016-08-29</td>\n",
       "    </tr>\n",
       "    <tr>\n",
       "      <th>1000</th>\n",
       "      <td>14</td>\n",
       "      <td>999</td>\n",
       "      <td>0 .10654496173562866</td>\n",
       "      <td>Tue May 22 21:01:21 2012</td>\n",
       "      <td>2020-07-22 18:46:09.789473</td>\n",
       "      <td>2009-01-26</td>\n",
       "    </tr>\n",
       "  </tbody>\n",
       "</table>\n",
       "<p>1000 rows × 6 columns</p>\n",
       "</div>"
      ],
      "text/plain": [
       "       1    2                      3                         4  \\\n",
       "0                                                                \n",
       "1     14   54   0 ,481208997226 7124  Mon Aug  6 07:11:19 2018   \n",
       "2     12   55    0 .9092218987487982  Thu Dec  1 01:32:03 2016   \n",
       "3     25    2   0.  3268611158564687  Wed Aug  2 22:37:44 2028   \n",
       "4     53    3  0. 38081302402434 647  Thu Feb 19 06:32:31 2009   \n",
       "5     48    4  0  , 7685621545518444  Wed Nov 19 04:33:36 2025   \n",
       "...   ..  ...                    ...                       ...   \n",
       "996   47  995  0 . 31648710908094746  Thu Jan  6 12:47:14 2022   \n",
       "997   49  996   0 . 5254363291858615  Thu Oct 10 19:17:25 2013   \n",
       "998   47  997   0 . 8274052871520312  Fri Mar 21 20:29:44 2008   \n",
       "999   32  998  0 ,01 907367792932857  Sat Jan 31 19:35:29 2004   \n",
       "1000  14  999   0 .10654496173562866  Tue May 22 21:01:21 2012   \n",
       "\n",
       "                              5          6  \n",
       "0                                           \n",
       "1    2026-07-19 08:15:41.695463 2011-10-04  \n",
       "2    2006-08-06 16:18:39.172100 2006-08-28  \n",
       "3    2020-11-08 10:08:31.158667 2019-11-21  \n",
       "4    2015-01-13 21:46:36.390139 2010-06-26  \n",
       "5    2030-09-24 00:13:00.613749 2011-12-03  \n",
       "...                         ...        ...  \n",
       "996  2004-08-15 22:47:52.816219 2007-08-10  \n",
       "997  2021-04-20 22:31:47.686148 2021-01-16  \n",
       "998  2020-02-20 07:16:28.324597 2029-04-24  \n",
       "999  2017-11-19 04:27:59.413835 2016-08-29  \n",
       "1000 2020-07-22 18:46:09.789473 2009-01-26  \n",
       "\n",
       "[1000 rows x 6 columns]"
      ]
     },
     "execution_count": 2,
     "metadata": {},
     "output_type": "execute_result"
    }
   ],
   "source": [
    "df = pd.read_excel('task_support.xlsx', sheet_name='Tasks', index_col=0, skiprows = 2, header = None,  parse_dates=[4, 5, 6])\n",
    "df"
   ]
  },
  {
   "cell_type": "code",
   "execution_count": 3,
   "metadata": {},
   "outputs": [
    {
     "data": {
      "text/plain": [
       "1             int64\n",
       "2             int64\n",
       "3            object\n",
       "4            object\n",
       "5    datetime64[ns]\n",
       "6    datetime64[ns]\n",
       "dtype: object"
      ]
     },
     "execution_count": 3,
     "metadata": {},
     "output_type": "execute_result"
    }
   ],
   "source": [
    "df.dtypes"
   ]
  },
  {
   "cell_type": "code",
   "execution_count": 4,
   "metadata": {},
   "outputs": [],
   "source": [
    "df[3] = df[3].str.replace(' ', '')\n",
    "df[3] = df[3].str.replace(',','.')\n",
    "df[3] = df[3].astype('float')"
   ]
  },
  {
   "cell_type": "code",
   "execution_count": 5,
   "metadata": {},
   "outputs": [],
   "source": [
    "df[4] = df[4].str[:24]\n",
    "df[4] = df[4].astype('datetime64[ns]')"
   ]
  },
  {
   "cell_type": "code",
   "execution_count": 6,
   "metadata": {},
   "outputs": [
    {
     "data": {
      "text/plain": [
       "1             int64\n",
       "2             int64\n",
       "3           float64\n",
       "4    datetime64[ns]\n",
       "5    datetime64[ns]\n",
       "6    datetime64[ns]\n",
       "dtype: object"
      ]
     },
     "execution_count": 6,
     "metadata": {},
     "output_type": "execute_result"
    }
   ],
   "source": [
    "df.dtypes"
   ]
  },
  {
   "cell_type": "code",
   "execution_count": 7,
   "metadata": {},
   "outputs": [
    {
     "data": {
      "text/plain": [
       "507"
      ]
     },
     "execution_count": 7,
     "metadata": {},
     "output_type": "execute_result"
    }
   ],
   "source": [
    "df['is_even'] = df[1].apply(lambda x:True if x % 2 == 0 else False)\n",
    "df['is_even'].sum()"
   ]
  },
  {
   "cell_type": "code",
   "execution_count": 8,
   "metadata": {},
   "outputs": [
    {
     "data": {
      "text/plain": [
       "168"
      ]
     },
     "execution_count": 8,
     "metadata": {},
     "output_type": "execute_result"
    }
   ],
   "source": [
    "def simple_number(number):\n",
    "    for divider in range(2, number):\n",
    "        if number%divider==0:\n",
    "            return False\n",
    "    return True\n",
    "\n",
    "df['simple'] = df[2].apply(simple_number)\n",
    "df['simple'].sum()"
   ]
  },
  {
   "cell_type": "code",
   "execution_count": 9,
   "metadata": {},
   "outputs": [
    {
     "data": {
      "text/plain": [
       "485"
      ]
     },
     "execution_count": 9,
     "metadata": {},
     "output_type": "execute_result"
    }
   ],
   "source": [
    "df['less_0.5'] = df[3] < 0.5\n",
    "df['less_0.5'].sum()"
   ]
  },
  {
   "cell_type": "code",
   "execution_count": 10,
   "metadata": {},
   "outputs": [
    {
     "data": {
      "text/plain": [
       "156"
      ]
     },
     "execution_count": 10,
     "metadata": {},
     "output_type": "execute_result"
    }
   ],
   "source": [
    "df['4_tuesday'] = pd.to_datetime(df[4]).dt.dayofweek\n",
    "df['4_tuesday'].value_counts().loc[1]"
   ]
  },
  {
   "cell_type": "code",
   "execution_count": 11,
   "metadata": {},
   "outputs": [
    {
     "data": {
      "text/plain": [
       "138"
      ]
     },
     "execution_count": 11,
     "metadata": {},
     "output_type": "execute_result"
    }
   ],
   "source": [
    "df['5_tuesday'] = pd.to_datetime(df[5]).dt.dayofweek\n",
    "df['5_tuesday'].value_counts().loc[1]"
   ]
  },
  {
   "cell_type": "code",
   "execution_count": 18,
   "metadata": {},
   "outputs": [
    {
     "data": {
      "text/plain": [
       "43"
      ]
     },
     "execution_count": 18,
     "metadata": {},
     "output_type": "execute_result"
    }
   ],
   "source": [
    "def last_tuesday(x):\n",
    "    if x.strftime(\"%a\") != \"Tue\":\n",
    "        return False\n",
    "    original_month = x.strftime(\"%m\")\n",
    "    new_date = x + timedelta(days = 7)\n",
    "    return new_date.strftime(\"%m\") != original_month\n",
    "\n",
    "df['last_tuesday'] = df[6].apply(last_tuesday)\n",
    "df['last_tuesday'].sum()"
   ]
  },
  {
   "cell_type": "code",
   "execution_count": 19,
   "metadata": {},
   "outputs": [],
   "source": [
    "df.to_excel('results.xlsx')"
   ]
  }
 ],
 "metadata": {
  "kernelspec": {
   "display_name": "Python 3",
   "language": "python",
   "name": "python3"
  },
  "language_info": {
   "codemirror_mode": {
    "name": "ipython",
    "version": 3
   },
   "file_extension": ".py",
   "mimetype": "text/x-python",
   "name": "python",
   "nbconvert_exporter": "python",
   "pygments_lexer": "ipython3",
   "version": "3.8.3"
  }
 },
 "nbformat": 4,
 "nbformat_minor": 4
}
